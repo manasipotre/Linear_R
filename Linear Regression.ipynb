{
 "cells": [
  {
   "cell_type": "markdown",
   "id": "c66d68c8",
   "metadata": {},
   "source": [
    "# # Submitted by: Manasi Potre  Task 2 Prediction using Supervised Learning(Linear Regression)"
   ]
  },
  {
   "cell_type": "markdown",
   "id": "c943b094",
   "metadata": {},
   "source": [
    "# Step-1: Data Pre-processing\n",
    "First, we will import the three important libraries, which will help us for loading the dataset, plotting the graphs, and creating the Simple Linear Regression model."
   ]
  },
  {
   "cell_type": "code",
   "execution_count": 1,
   "id": "6e2d95c0",
   "metadata": {},
   "outputs": [],
   "source": [
    "import numpy as nm  \n",
    "import matplotlib.pyplot as mtp  \n",
    "import pandas as pd  "
   ]
  },
  {
   "cell_type": "markdown",
   "id": "50aeeb21",
   "metadata": {},
   "source": [
    "\n",
    "# load the dataset"
   ]
  },
  {
   "cell_type": "code",
   "execution_count": 8,
   "id": "de193e85",
   "metadata": {},
   "outputs": [],
   "source": [
    "url=\"http://bit.ly/w-data\"\n",
    "ds= pd.read_csv(url) \n"
   ]
  },
  {
   "cell_type": "markdown",
   "id": "151df221",
   "metadata": {},
   "source": [
    "# extract the dependent and independent variables from the given dataset. The independent variable is years of experience, and the dependent variable is salary."
   ]
  },
  {
   "cell_type": "code",
   "execution_count": 9,
   "id": "deff23fe",
   "metadata": {},
   "outputs": [],
   "source": [
    "x= ds.iloc[:, :-1].values  \n",
    "y= ds.iloc[:, 1].values   "
   ]
  },
  {
   "cell_type": "code",
   "execution_count": 10,
   "id": "6a672eee",
   "metadata": {},
   "outputs": [],
   "source": [
    "from sklearn.model_selection import train_test_split  \n",
    "x_train, x_test, y_train, y_test= train_test_split(x, y, test_size= 1/3, random_state=0)"
   ]
  },
  {
   "cell_type": "markdown",
   "id": "2a6e8cb2",
   "metadata": {},
   "source": [
    "# Step-2: Fitting the Simple Linear Regression to the Training Set:\n"
   ]
  },
  {
   "cell_type": "code",
   "execution_count": 11,
   "id": "a499ac03",
   "metadata": {},
   "outputs": [
    {
     "data": {
      "text/plain": [
       "LinearRegression()"
      ]
     },
     "execution_count": 11,
     "metadata": {},
     "output_type": "execute_result"
    }
   ],
   "source": [
    "from sklearn.linear_model import LinearRegression  \n",
    "regressor= LinearRegression()  \n",
    "regressor.fit(x_train, y_train)  "
   ]
  },
  {
   "cell_type": "markdown",
   "id": "95ed75cd",
   "metadata": {},
   "source": [
    "# Step: 3. Prediction of test set result:"
   ]
  },
  {
   "cell_type": "code",
   "execution_count": 12,
   "id": "32771acb",
   "metadata": {},
   "outputs": [],
   "source": [
    "#Prediction of Test and Training set result  \n",
    "y_pred= regressor.predict(x_test)  \n",
    "x_pred= regressor.predict(x_train)  "
   ]
  },
  {
   "cell_type": "markdown",
   "id": "02983020",
   "metadata": {},
   "source": [
    "# Step: 4. visualizing the Training set results:"
   ]
  },
  {
   "cell_type": "code",
   "execution_count": 14,
   "id": "ec4557ad",
   "metadata": {},
   "outputs": [
    {
     "data": {
      "image/png": "[encoded data removed]",
      "text/plain": [
       "<Figure size 432x288 with 1 Axes>"
      ]
     },
     "metadata": {
      "needs_background": "light"
     },
     "output_type": "display_data"
    }
   ],
   "source": [
    "mtp.scatter(x_train, y_train, color=\"green\")   \n",
    "mtp.plot(x_train, x_pred, color=\"red\")    \n",
    "mtp.title(\"Hours & Scores (Training Dataset)\")  \n",
    "mtp.xlabel(\"Hours\")  \n",
    "mtp.ylabel(\"Scores\")  \n",
    "mtp.show()   "
   ]
  },
  {
   "cell_type": "code",
   "execution_count": null,
   "id": "bb41d823",
   "metadata": {},
   "outputs": [],
   "source": []
  }
 ],
 "metadata": {
  "kernelspec": {
   "display_name": "Python 3",
   "language": "python",
   "name": "python3"
  },
  "language_info": {
   "codemirror_mode": {
    "name": "ipython",
    "version": 3
   },
   "file_extension": ".py",
   "mimetype": "text/x-python",
   "name": "python",
   "nbconvert_exporter": "python",
   "pygments_lexer": "ipython3",
   "version": "3.8.8"
  }
 },
 "nbformat": 4,
 "nbformat_minor": 5
}
